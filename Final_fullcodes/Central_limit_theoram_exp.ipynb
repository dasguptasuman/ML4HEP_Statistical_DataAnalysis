{
 "cells": [
  {
   "cell_type": "markdown",
   "id": "93904485",
   "metadata": {},
   "source": [
    "# Central limit theoram for exponentially distributed random variables\n",
    "\n",
    "We will learn that whereas the sum of the random variables (RVs) increases with the #RVs added to it, for sample mean remains the same. The sigma of the sum of the RVs also increases but for the sample mean, the sigma decreases with the #RVs added to it. \n",
    "\n",
    "The mean of N RVs added is N*mean and variance is N*sigma^2\n",
    "In particular, for exponentially generated RVs == 1/tau * exp(-tau*t), the mean is tau and the variance is 1/tau*1/tau.  Hence for the sum, mean = N*tau and variance = N/tau * 1/tau.\n",
    "\n",
    "For sample mean, i.e. var = Sum(xi)/N, mean = N*tau/N and variance of sample mean = sigma^2/N and hence this decreases with N \n",
    "\n",
    "We will show and prove all of the above for various values of N, i.e. npart"
   ]
  },
  {
   "cell_type": "code",
   "execution_count": null,
   "id": "2f93fb11",
   "metadata": {},
   "outputs": [],
   "source": [
    "import matplotlib.pyplot as plt\n",
    "import numpy as np"
   ]
  },
  {
   "cell_type": "code",
   "execution_count": 177,
   "id": "751ed727",
   "metadata": {},
   "outputs": [],
   "source": [
    "from scipy.stats import uniform\n",
    "from scipy.stats import cosine\n",
    "from scipy.stats import expon"
   ]
  },
  {
   "cell_type": "code",
   "execution_count": 196,
   "id": "304da91e",
   "metadata": {},
   "outputs": [],
   "source": [
    "tau = 10\n",
    "nevents = 10000 ### total number of experiments\n",
    "npart = 10 ### no. of random variables to be added in one experiment"
   ]
  },
  {
   "cell_type": "code",
   "execution_count": 197,
   "id": "9e56b7f8",
   "metadata": {},
   "outputs": [],
   "source": [
    "def Expo(N):\n",
    "    p = expon.rvs(loc = 0, scale = 1/tau, size = N)\n",
    "    return p"
   ]
  },
  {
   "cell_type": "code",
   "execution_count": 198,
   "id": "59570576",
   "metadata": {},
   "outputs": [],
   "source": [
    "exp_sum_distri = []\n",
    "exp_mean_distri = []\n",
    "\n",
    "for i in range(nevents):\n",
    "    exp_rv = Expo(npart)\n",
    "    exp_sum = np.sum(exp_rv)\n",
    "    exp_mean = np.mean(exp_rv)\n",
    "    exp_sum_distri.append(exp_sum)\n",
    "    exp_mean_distri.append(exp_mean)"
   ]
  },
  {
   "cell_type": "code",
   "execution_count": 199,
   "id": "465275ba",
   "metadata": {},
   "outputs": [],
   "source": [
    "#exp_sum_distri_arr = np.array(exp_sum_distri)\n",
    "#exp_mean_distri_arr = np.array(exp_mean_distri)"
   ]
  },
  {
   "cell_type": "code",
   "execution_count": 200,
   "id": "c4ab2b63",
   "metadata": {},
   "outputs": [
    {
     "data": {
      "image/png": "[encoded data removed]",
      "text/plain": [
       "<Figure size 432x288 with 1 Axes>"
      ]
     },
     "metadata": {
      "needs_background": "light"
     },
     "output_type": "display_data"
    }
   ],
   "source": [
    "### plot the sum of RVs\n",
    "counts, bin_edges, _ = plt.hist(exp_sum_distri, bins=50, density=True, alpha=0.2, color='blue')\n",
    "plt.title(\"Sum of exponentials\")\n",
    "plt.xlabel(\"Sum\")\n",
    "plt.ylabel(\"Probablity distribution\")\n",
    "\n",
    "\n",
    "# Calculate bin centers\n",
    "bin_centers = (bin_edges[:-1] + bin_edges[1:]) / 2\n",
    "\n",
    "# Calculate mean and standard deviation (sigma) of the histogram data\n",
    "mean = np.average(bin_centers, weights=counts)\n",
    "variance = np.average((bin_centers - mean) ** 2, weights=counts)\n",
    "sigma = np.sqrt(variance)\n",
    "\n",
    "# Annotate the mean and sigma on the plot\n",
    "plt.axvline(mean, color='r', linestyle='dashed', linewidth=1)\n",
    "plt.text(mean, plt.ylim()[1]*0.9, f'Mean = {mean:.2f}', color='r', horizontalalignment='right', verticalalignment='top')\n",
    "plt.text(mean, plt.ylim()[1]*0.8, f'Sigma = {sigma:.2f}', color='r', horizontalalignment='right', verticalalignment='top')\n",
    "plt.show()\n"
   ]
  },
  {
   "cell_type": "code",
   "execution_count": 201,
   "id": "548ac34e",
   "metadata": {},
   "outputs": [
    {
     "data": {
      "image/png": "[encoded data removed]",
      "text/plain": [
       "<Figure size 432x288 with 1 Axes>"
      ]
     },
     "metadata": {
      "needs_background": "light"
     },
     "output_type": "display_data"
    }
   ],
   "source": [
    "### plot the sample mean now\n",
    "\n",
    "counts, bin_edges, _ = plt.hist(exp_mean_distri, bins=50, density=True, alpha=0.2, color='red')\n",
    "plt.title(\"Mean of exponentials\")\n",
    "plt.xlabel(\"Mean\")\n",
    "plt.ylabel(\"Probablity distribution\")\n",
    "\n",
    "# Calculate bin centers\n",
    "bin_centers = (bin_edges[:-1] + bin_edges[1:]) / 2\n",
    "\n",
    "# Calculate mean and standard deviation (sigma) of the histogram data\n",
    "mean = np.average(bin_centers, weights=counts)\n",
    "variance = np.average((bin_centers - mean) ** 2, weights=counts)\n",
    "sigma = np.sqrt(variance)\n",
    "\n",
    "# Annotate the mean and sigma on the plot\n",
    "plt.axvline(mean, color='r', linestyle='dashed', linewidth=1)\n",
    "plt.text(mean, plt.ylim()[1]*0.9, f'Mean = {mean:.2f}', color='r', horizontalalignment='right', verticalalignment='top')\n",
    "plt.text(mean, plt.ylim()[1]*0.8, f'Sigma = {sigma:.4f}', color='r', horizontalalignment='right', verticalalignment='top')\n",
    "plt.show()\n"
   ]
  },
  {
   "cell_type": "code",
   "execution_count": null,
   "id": "b16dc971",
   "metadata": {},
   "outputs": [],
   "source": []
  },
  {
   "cell_type": "code",
   "execution_count": null,
   "id": "a19856ef",
   "metadata": {},
   "outputs": [],
   "source": []
  },
  {
   "cell_type": "code",
   "execution_count": null,
   "id": "84bb0b00",
   "metadata": {},
   "outputs": [],
   "source": []
  }
 ],
 "metadata": {
  "kernelspec": {
   "display_name": "Python 3",
   "language": "python",
   "name": "python3"
  },
  "language_info": {
   "codemirror_mode": {
    "name": "ipython",
    "version": 3
   },
   "file_extension": ".py",
   "mimetype": "text/x-python",
   "name": "python",
   "nbconvert_exporter": "python",
   "pygments_lexer": "ipython3",
   "version": "3.9.12"
  }
 },
 "nbformat": 4,
 "nbformat_minor": 5
}
