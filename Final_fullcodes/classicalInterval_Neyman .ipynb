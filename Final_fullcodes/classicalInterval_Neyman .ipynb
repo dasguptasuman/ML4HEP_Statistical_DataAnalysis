{
 "cells": [
  {
   "cell_type": "markdown",
   "id": "fd079912",
   "metadata": {},
   "source": [
    "# This code plots the classical confidence interval using Neyman's construction. i.e. for every value of mu (signal events), it gets the UL on n (number of data events) using poisson statistics\n",
    "\n",
    "BKg is taken to be 3 for this case. We try to reproduce arXiv: 9711021 (Feldman's and Cousin's paper) fig 6 "
   ]
  },
  {
   "cell_type": "code",
   "execution_count": 17,
   "id": "0f9fa8b9",
   "metadata": {},
   "outputs": [],
   "source": [
    "###Developer: Shilpi Jain\n",
    "\n",
    "import numpy as np\n",
    "from scipy.stats import norm\n",
    "import ROOT\n",
    "from scipy.stats import poisson\n",
    "from array import array\n",
    "import math"
   ]
  },
  {
   "cell_type": "code",
   "execution_count": 18,
   "id": "e8b7bd33",
   "metadata": {},
   "outputs": [
    {
     "name": "stdout",
     "output_type": "stream",
     "text": [
      "[ 0.          0.04008016  0.08016032  0.12024048  0.16032064  0.2004008\n",
      "  0.24048096  0.28056112  0.32064128  0.36072144  0.4008016   0.44088176\n",
      "  0.48096192  0.52104208  0.56112224  0.6012024   0.64128257  0.68136273\n",
      "  0.72144289  0.76152305  0.80160321  0.84168337  0.88176353  0.92184369\n",
      "  0.96192385  1.00200401  1.04208417  1.08216433  1.12224449  1.16232465\n",
      "  1.20240481  1.24248497  1.28256513  1.32264529  1.36272545  1.40280561\n",
      "  1.44288577  1.48296593  1.52304609  1.56312625  1.60320641  1.64328657\n",
      "  1.68336673  1.72344689  1.76352705  1.80360721  1.84368737  1.88376754\n",
      "  1.9238477   1.96392786  2.00400802  2.04408818  2.08416834  2.1242485\n",
      "  2.16432866  2.20440882  2.24448898  2.28456914  2.3246493   2.36472946\n",
      "  2.40480962  2.44488978  2.48496994  2.5250501   2.56513026  2.60521042\n",
      "  2.64529058  2.68537074  2.7254509   2.76553106  2.80561122  2.84569138\n",
      "  2.88577154  2.9258517   2.96593186  3.00601202  3.04609218  3.08617234\n",
      "  3.12625251  3.16633267  3.20641283  3.24649299  3.28657315  3.32665331\n",
      "  3.36673347  3.40681363  3.44689379  3.48697395  3.52705411  3.56713427\n",
      "  3.60721443  3.64729459  3.68737475  3.72745491  3.76753507  3.80761523\n",
      "  3.84769539  3.88777555  3.92785571  3.96793587  4.00801603  4.04809619\n",
      "  4.08817635  4.12825651  4.16833667  4.20841683  4.24849699  4.28857715\n",
      "  4.32865731  4.36873747  4.40881764  4.4488978   4.48897796  4.52905812\n",
      "  4.56913828  4.60921844  4.6492986   4.68937876  4.72945892  4.76953908\n",
      "  4.80961924  4.8496994   4.88977956  4.92985972  4.96993988  5.01002004\n",
      "  5.0501002   5.09018036  5.13026052  5.17034068  5.21042084  5.250501\n",
      "  5.29058116  5.33066132  5.37074148  5.41082164  5.4509018   5.49098196\n",
      "  5.53106212  5.57114228  5.61122244  5.65130261  5.69138277  5.73146293\n",
      "  5.77154309  5.81162325  5.85170341  5.89178357  5.93186373  5.97194389\n",
      "  6.01202405  6.05210421  6.09218437  6.13226453  6.17234469  6.21242485\n",
      "  6.25250501  6.29258517  6.33266533  6.37274549  6.41282565  6.45290581\n",
      "  6.49298597  6.53306613  6.57314629  6.61322645  6.65330661  6.69338677\n",
      "  6.73346693  6.77354709  6.81362725  6.85370741  6.89378758  6.93386774\n",
      "  6.9739479   7.01402806  7.05410822  7.09418838  7.13426854  7.1743487\n",
      "  7.21442886  7.25450902  7.29458918  7.33466934  7.3747495   7.41482966\n",
      "  7.45490982  7.49498998  7.53507014  7.5751503   7.61523046  7.65531062\n",
      "  7.69539078  7.73547094  7.7755511   7.81563126  7.85571142  7.89579158\n",
      "  7.93587174  7.9759519   8.01603206  8.05611222  8.09619238  8.13627255\n",
      "  8.17635271  8.21643287  8.25651303  8.29659319  8.33667335  8.37675351\n",
      "  8.41683367  8.45691383  8.49699399  8.53707415  8.57715431  8.61723447\n",
      "  8.65731463  8.69739479  8.73747495  8.77755511  8.81763527  8.85771543\n",
      "  8.89779559  8.93787575  8.97795591  9.01803607  9.05811623  9.09819639\n",
      "  9.13827655  9.17835671  9.21843687  9.25851703  9.29859719  9.33867735\n",
      "  9.37875752  9.41883768  9.45891784  9.498998    9.53907816  9.57915832\n",
      "  9.61923848  9.65931864  9.6993988   9.73947896  9.77955912  9.81963928\n",
      "  9.85971944  9.8997996   9.93987976  9.97995992 10.02004008 10.06012024\n",
      " 10.1002004  10.14028056 10.18036072 10.22044088 10.26052104 10.3006012\n",
      " 10.34068136 10.38076152 10.42084168 10.46092184 10.501002   10.54108216\n",
      " 10.58116232 10.62124248 10.66132265 10.70140281 10.74148297 10.78156313\n",
      " 10.82164329 10.86172345 10.90180361 10.94188377 10.98196393 11.02204409\n",
      " 11.06212425 11.10220441 11.14228457 11.18236473 11.22244489 11.26252505\n",
      " 11.30260521 11.34268537 11.38276553 11.42284569 11.46292585 11.50300601\n",
      " 11.54308617 11.58316633 11.62324649 11.66332665 11.70340681 11.74348697\n",
      " 11.78356713 11.82364729 11.86372745 11.90380762 11.94388778 11.98396794\n",
      " 12.0240481  12.06412826 12.10420842 12.14428858 12.18436874 12.2244489\n",
      " 12.26452906 12.30460922 12.34468938 12.38476954 12.4248497  12.46492986\n",
      " 12.50501002 12.54509018 12.58517034 12.6252505  12.66533066 12.70541082\n",
      " 12.74549098 12.78557114 12.8256513  12.86573146 12.90581162 12.94589178\n",
      " 12.98597194 13.0260521  13.06613226 13.10621242 13.14629259 13.18637275\n",
      " 13.22645291 13.26653307 13.30661323 13.34669339 13.38677355 13.42685371\n",
      " 13.46693387 13.50701403 13.54709419 13.58717435 13.62725451 13.66733467\n",
      " 13.70741483 13.74749499 13.78757515 13.82765531 13.86773547 13.90781563\n",
      " 13.94789579 13.98797595 14.02805611 14.06813627 14.10821643 14.14829659\n",
      " 14.18837675 14.22845691 14.26853707 14.30861723 14.34869739 14.38877756\n",
      " 14.42885772 14.46893788 14.50901804 14.5490982  14.58917836 14.62925852\n",
      " 14.66933868 14.70941884 14.749499   14.78957916 14.82965932 14.86973948\n",
      " 14.90981964 14.9498998  14.98997996 15.03006012 15.07014028 15.11022044\n",
      " 15.1503006  15.19038076 15.23046092 15.27054108 15.31062124 15.3507014\n",
      " 15.39078156 15.43086172 15.47094188 15.51102204 15.5511022  15.59118236\n",
      " 15.63126253 15.67134269 15.71142285 15.75150301 15.79158317 15.83166333\n",
      " 15.87174349 15.91182365 15.95190381 15.99198397 16.03206413 16.07214429\n",
      " 16.11222445 16.15230461 16.19238477 16.23246493 16.27254509 16.31262525\n",
      " 16.35270541 16.39278557 16.43286573 16.47294589 16.51302605 16.55310621\n",
      " 16.59318637 16.63326653 16.67334669 16.71342685 16.75350701 16.79358717\n",
      " 16.83366733 16.87374749 16.91382766 16.95390782 16.99398798 17.03406814\n",
      " 17.0741483  17.11422846 17.15430862 17.19438878 17.23446894 17.2745491\n",
      " 17.31462926 17.35470942 17.39478958 17.43486974 17.4749499  17.51503006\n",
      " 17.55511022 17.59519038 17.63527054 17.6753507  17.71543086 17.75551102\n",
      " 17.79559118 17.83567134 17.8757515  17.91583166 17.95591182 17.99599198\n",
      " 18.03607214 18.0761523  18.11623246 18.15631263 18.19639279 18.23647295\n",
      " 18.27655311 18.31663327 18.35671343 18.39679359 18.43687375 18.47695391\n",
      " 18.51703407 18.55711423 18.59719439 18.63727455 18.67735471 18.71743487\n",
      " 18.75751503 18.79759519 18.83767535 18.87775551 18.91783567 18.95791583\n",
      " 18.99799599 19.03807615 19.07815631 19.11823647 19.15831663 19.19839679\n",
      " 19.23847695 19.27855711 19.31863727 19.35871743 19.3987976  19.43887776\n",
      " 19.47895792 19.51903808 19.55911824 19.5991984  19.63927856 19.67935872\n",
      " 19.71943888 19.75951904 19.7995992  19.83967936 19.87975952 19.91983968\n",
      " 19.95991984 20.        ]\n"
     ]
    }
   ],
   "source": [
    "## Generate a few values of mu from 0 to 20 with spacing 21./500. One can increase the spacing as much as one wants or put it to be 1\n",
    "#mu_true = np.linspace(0, 20, 20001)\n",
    "mu_true = np.linspace(0, 20, 500)\n",
    "print(mu_true)\n",
    "len(mu_true)\n",
    "bkg = 3"
   ]
  },
  {
   "cell_type": "code",
   "execution_count": 19,
   "id": "b24dffb0",
   "metadata": {},
   "outputs": [],
   "source": [
    "def get_lower_limit_pois(mu,b, prob):\n",
    "    tmp_prob = 0\n",
    "    n = 0\n",
    "    nbest = mu+b\n",
    "    while ( (tmp_prob <= prob) and abs(tmp_prob-prob)>0.01 ):\n",
    "        tmp_prob += math.exp(-nbest) * math.pow(nbest,n)/math.factorial(n)\n",
    "        #print(f\"{n}:{tmp_prob}\")\n",
    "        n = n+1    \n",
    "        \n",
    "    #print(f\"mu : n : tmp_prob {mu} {n-1} {tmp_prob}\")          \n",
    "    return n-1\n",
    "\n",
    "def get_upper_limit_pois(mu,b, prob):\n",
    "    tmp_prob = 0\n",
    "    n = 0\n",
    "    nbest = mu+b\n",
    "    #while ( 1-tmp_prob >= prob ):\n",
    "    while ( (1-tmp_prob >= prob) and abs(1-tmp_prob-prob)>0.01  ):\n",
    "        tmp_prob = tmp_prob + math.exp(-nbest) * math.pow(nbest,n)/math.factorial(n)\n",
    "        #print(f\"{n}:{1-tmp_prob}\")\n",
    "        n = n+1\n",
    "    #print(f\"mu : n : tmp_prob {mu} {n-1} {1-tmp_prob}\") \n",
    "    return n-1"
   ]
  },
  {
   "cell_type": "code",
   "execution_count": 20,
   "id": "0c9ed17e",
   "metadata": {},
   "outputs": [
    {
     "data": {
      "text/plain": [
       "array([0, 1, 2, 3, 4, 5, 6, 7, 8, 9])"
      ]
     },
     "execution_count": 20,
     "metadata": {},
     "output_type": "execute_result"
    }
   ],
   "source": [
    "Lower_limit = []\n",
    "Upper_limit = []\n",
    "muArr = []\n",
    "np.arange(0,10)"
   ]
  },
  {
   "cell_type": "code",
   "execution_count": 21,
   "id": "b028f008",
   "metadata": {},
   "outputs": [],
   "source": [
    "ntot = 0\n",
    "\n",
    "### now loop over mu and the upper and lower limits on n\n",
    "\n",
    "for mu in mu_true:\n",
    "        #mu = 0.1\n",
    "        #print(f\"mu is {mu}\")\n",
    "        beta = 0.05\n",
    "        alpha = 0.05\n",
    "        t_beta = get_lower_limit_pois(mu,bkg,beta)\n",
    "        t_alpha = get_upper_limit_pois(mu,bkg,alpha)\n",
    "        \n",
    "        Lower_limit.append(t_beta)\n",
    "        Upper_limit.append(t_alpha)\n",
    "        muArr.append(mu)\n",
    "        ntot += 1\n",
    "        #print(f\"mu - t_beta + t_alpha {mu} {t_beta} : {t_alpha}\")\n",
    "        #############################################################"
   ]
  },
  {
   "cell_type": "code",
   "execution_count": 22,
   "id": "78a8739a",
   "metadata": {},
   "outputs": [],
   "source": [
    "'''\n",
    "step_upper = np.where(np.diff((np.array(Upper_limit))) != 0)\n",
    "step_lower = np.where(np.diff((np.array(Lower_limit))) != 0)\n",
    "\n",
    "mu_lo = mu_true[step_lower]\n",
    "mu_lo = array(\"d\", mu_lo)\n",
    "\n",
    "mu_up = mu_true[step_upper]\n",
    "mu_up = array(\"d\", mu_up)\n",
    "\n",
    "\n",
    "bin_center1 = np.arange(0.5, 16.5, 1.0)\n",
    "bin_center1 = array(\"d\", bin_center1)\n",
    "\n",
    "\n",
    "bin_center2 = np.arange(5.5, 31.5, 1.0)\n",
    "bin_center2 = array(\"d\", bin_center2)\n",
    "\n",
    "hlower_limit = ROOT.TGraph(len(mu_lo), bin_center1, mu_lo)\n",
    "hupper_limit = ROOT.TGraph(len(mu_up), bin_center2, mu_up)\n",
    "'''\n",
    "\n",
    "'''\n",
    "Lower_limit = array(\"d\", Lower_limit)\n",
    "Upper_limit = array(\"d\", Upper_limit)\n",
    "muArr = array(\"d\", muArr)\n",
    "hlower_limit = ROOT.TGraph(ntot, muArr,np.array(Lower_limit) )\n",
    "hupper_limit = ROOT.TGraph(ntot, muArr, np.array(Upper_limit))\n",
    "'''\n",
    "\n",
    "\n",
    "### switch the axis to get the exact plot as in Feldman's and Cousin's paper in fig 6\n",
    "Lower_limit_tmp = Upper_limit\n",
    "Upper_limit_tmp = Lower_limit\n",
    "Lower_limit = array(\"d\", Lower_limit_tmp)\n",
    "Upper_limit = array(\"d\", Upper_limit_tmp)\n",
    "muArr = array(\"d\", muArr)\n",
    "hupper_limit = ROOT.TGraph(ntot, np.array(Upper_limit), muArr)\n",
    "hlower_limit = ROOT.TGraph(ntot, np.array(Lower_limit), muArr )\n",
    "\n",
    "\n",
    "\n"
   ]
  },
  {
   "cell_type": "code",
   "execution_count": 23,
   "id": "41bce2c9",
   "metadata": {},
   "outputs": [
    {
     "name": "stderr",
     "output_type": "stream",
     "text": [
      "Warning in <TCanvas::Constructor>: Deleting canvas with same name: canvas\n",
      "Info in <TCanvas::Print>: jpg file output.jpg has been created\n"
     ]
    }
   ],
   "source": [
    "# Create TMultiGraph\n",
    "TG = ROOT.TMultiGraph()\n",
    "hupper_limit.SetMarkerStyle(20)  # 20 corresponds to a filled circle\n",
    "hlower_limit.SetMarkerStyle(20)\n",
    "hupper_limit.SetMarkerColor(2)\n",
    "hlower_limit.SetMarkerColor(4)\n",
    "\n",
    "TG.Add(hlower_limit, \"AP\")\n",
    "TG.Add(hupper_limit, \"AP\")\n",
    "\n",
    "\n",
    "# Create canvas\n",
    "canvas = ROOT.TCanvas(\"canvas\", \"Confidence belt for Poisson distribution\", 800, 600)\n",
    "# Enable the grid for the canvas\n",
    "canvas.SetGrid()\n",
    "# Draw TMultiGraph\n",
    "TG.Draw(\"A\")\n",
    "\n",
    "#TG.GetXaxis().SetTitle(\"Signal mean Mu\")\n",
    "#TG.GetYaxis().SetTitle(\"Measured n\")\n",
    "\n",
    "TG.GetXaxis().SetTitle(\"Measured n\")\n",
    "TG.GetYaxis().SetTitle(\"Signal mean Mu\")\n",
    "\n",
    "TG.GetXaxis().SetRangeUser(0, 15)\n",
    "TG.GetYaxis().SetRangeUser(0, 15)\n",
    "# Show the canvas\n",
    "canvas.SaveAs(\"output.jpg\")\n"
   ]
  },
  {
   "cell_type": "code",
   "execution_count": null,
   "id": "a26ceb5a",
   "metadata": {},
   "outputs": [],
   "source": []
  },
  {
   "cell_type": "code",
   "execution_count": null,
   "id": "37068cd0",
   "metadata": {},
   "outputs": [],
   "source": []
  },
  {
   "cell_type": "code",
   "execution_count": null,
   "id": "29d00875",
   "metadata": {},
   "outputs": [],
   "source": []
  }
 ],
 "metadata": {
  "@webio": {
   "lastCommId": null,
   "lastKernelId": null
  },
  "kernelspec": {
   "display_name": "Python 3",
   "language": "python",
   "name": "python3"
  },
  "language_info": {
   "codemirror_mode": {
    "name": "ipython",
    "version": 3
   },
   "file_extension": ".py",
   "mimetype": "text/x-python",
   "name": "python",
   "nbconvert_exporter": "python",
   "pygments_lexer": "ipython3",
   "version": "3.9.12"
  }
 },
 "nbformat": 4,
 "nbformat_minor": 5
}
