{
 "cells": [
  {
   "cell_type": "code",
   "execution_count": 1,
   "id": "02e26b44",
   "metadata": {},
   "outputs": [],
   "source": [
    "import matplotlib.pyplot as plt\n",
    "import numpy as np"
   ]
  },
  {
   "cell_type": "code",
   "execution_count": 2,
   "id": "914dac0b",
   "metadata": {},
   "outputs": [],
   "source": [
    "from scipy.stats import uniform\n",
    "from scipy.stats import cosine"
   ]
  },
  {
   "cell_type": "code",
   "execution_count": 3,
   "id": "6e21906f",
   "metadata": {},
   "outputs": [],
   "source": [
    "num_particles = 10000  # Number of particles\n",
    "num_scatters = 1000    # Number of scattering events per particle"
   ]
  },
  {
   "cell_type": "code",
   "execution_count": 4,
   "id": "5b499f2f",
   "metadata": {},
   "outputs": [],
   "source": [
    "def Uniform(N):\n",
    "    p = uniform.rvs(loc = -np.pi/2, scale = np.pi, size = N)\n",
    "    return p"
   ]
  },
  {
   "cell_type": "code",
   "execution_count": 5,
   "id": "abac9064",
   "metadata": {},
   "outputs": [],
   "source": [
    "def Cosine(N):\n",
    "    p = cosine.rvs(size = N)\n",
    "    return p"
   ]
  },
  {
   "cell_type": "code",
   "execution_count": 6,
   "id": "637d6721",
   "metadata": {},
   "outputs": [],
   "source": [
    "scattering_angles_distri = []\n",
    "mean_scattering_angles_distri = []"
   ]
  },
  {
   "cell_type": "code",
   "execution_count": 7,
   "id": "fa34a90f",
   "metadata": {},
   "outputs": [],
   "source": [
    "for i in range(num_particles):\n",
    "    # Generate random scattering angles and sum them up\n",
    "    \n",
    "    #scattering_angles = Uniform(num_scatters)  # Case1\n",
    "    \n",
    "    #scattering_angles = Cosine(num_scatters)  # Case2\n",
    "    \n",
    "    # Case 3: More complex example\n",
    "    scattering_angles1 = Uniform(int(num_scatters/2))\n",
    "    scattering_angles2 = Cosine(int(num_scatters/2))\n",
    "    scattering_angles = np.concatenate((scattering_angles1, scattering_angles2))\n",
    "    scattering_angles_sum = np.sum(scattering_angles)\n",
    "    \n",
    "    # Calculate the mean\n",
    "    scattering_angles1_mean = np.mean(scattering_angles1)\n",
    "    scattering_angles2_mean = np.mean(scattering_angles2)\n",
    "    scattering_angles_mean = (scattering_angles1_mean + scattering_angles2_mean)/2.\n",
    "    \n",
    "    scattering_angles_distri.append(scattering_angles_sum)\n",
    "    mean_scattering_angles_distri.append(scattering_angles_mean)"
   ]
  },
  {
   "cell_type": "code",
   "execution_count": 8,
   "id": "1544b4af",
   "metadata": {},
   "outputs": [],
   "source": [
    "scattering_angles_distri = np.array(scattering_angles_distri)\n",
    "mean_scattering_angles_distri = np.array(mean_scattering_angles_distri)"
   ]
  },
  {
   "cell_type": "code",
   "execution_count": 10,
   "id": "d0183c53",
   "metadata": {},
   "outputs": [
    {
     "data": {
      "image/png": "[encoded data removed]",
      "text/plain": [
       "<Figure size 432x288 with 1 Axes>"
      ]
     },
     "metadata": {
      "needs_background": "light"
     },
     "output_type": "display_data"
    }
   ],
   "source": [
    "plt.hist(mean_scattering_angles_distri, bins=50, density=True, alpha=0.7, color='blue')\n",
    "plt.title(\"Mean of Scattering Angles\")\n",
    "plt.xlabel(\"Mean\")\n",
    "plt.ylabel(\"Probablity distribution\")\n",
    "plt.show()"
   ]
  },
  {
   "cell_type": "code",
   "execution_count": null,
   "id": "6e27649d",
   "metadata": {},
   "outputs": [],
   "source": [
    "#Run the code by channing different value of num_particles"
   ]
  }
 ],
 "metadata": {
  "kernelspec": {
   "display_name": "Python 3 (ipykernel)",
   "language": "python",
   "name": "python3"
  },
  "language_info": {
   "codemirror_mode": {
    "name": "ipython",
    "version": 3
   },
   "file_extension": ".py",
   "mimetype": "text/x-python",
   "name": "python",
   "nbconvert_exporter": "python",
   "pygments_lexer": "ipython3",
   "version": "3.9.12"
  }
 },
 "nbformat": 4,
 "nbformat_minor": 5
}
