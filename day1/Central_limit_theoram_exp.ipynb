{
 "cells": [
  {
   "cell_type": "code",
   "execution_count": 1,
   "id": "93a3d406",
   "metadata": {},
   "outputs": [],
   "source": [
    "import matplotlib.pyplot as plt\n",
    "import numpy as np"
   ]
  },
  {
   "cell_type": "code",
   "execution_count": 2,
   "id": "751ed727",
   "metadata": {},
   "outputs": [],
   "source": [
    "from scipy.stats import uniform\n",
    "from scipy.stats import cosine\n",
    "from scipy.stats import expon"
   ]
  },
  {
   "cell_type": "code",
   "execution_count": 3,
   "id": "304da91e",
   "metadata": {},
   "outputs": [],
   "source": [
    "tau = 10\n",
    "nevents = 10000\n",
    "npart = 2"
   ]
  },
  {
   "cell_type": "code",
   "execution_count": 4,
   "id": "9e56b7f8",
   "metadata": {},
   "outputs": [],
   "source": [
    "def Expo(N):\n",
    "    p = expon.rvs(loc = 0, scale = 1/tau, size = N)\n",
    "    return p"
   ]
  },
  {
   "cell_type": "code",
   "execution_count": 5,
   "id": "59570576",
   "metadata": {},
   "outputs": [],
   "source": [
    "exp_sum_distri = []\n",
    "exp_mean_distri = []\n",
    "\n",
    "for i in range(nevents):\n",
    "    exp_rv = Expo(npart)\n",
    "   "
   ]
  },
  {
   "cell_type": "code",
   "execution_count": null,
   "id": "465275ba",
   "metadata": {},
   "outputs": [],
   "source": []
  },
  {
   "cell_type": "code",
   "execution_count": 6,
   "id": "c4ab2b63",
   "metadata": {},
   "outputs": [
    {
     "ename": "SyntaxError",
     "evalue": "invalid syntax (2982399687.py, line 1)",
     "output_type": "error",
     "traceback": [
      "\u001b[0;36m  Input \u001b[0;32mIn [6]\u001b[0;36m\u001b[0m\n\u001b[0;31m    counts, bin_edges, _ = plt.hist(, bins=50, density=True, alpha=0.2, color='blue')\u001b[0m\n\u001b[0m                                    ^\u001b[0m\n\u001b[0;31mSyntaxError\u001b[0m\u001b[0;31m:\u001b[0m invalid syntax\n"
     ]
    }
   ],
   "source": [
    "\n",
    "counts, bin_edges, _ = plt.hist(, bins=50, density=True, alpha=0.2, color='blue')\n",
    "plt.title(\"Sum of exponentials\")\n",
    "plt.xlabel(\"Sum\")\n",
    "plt.ylabel(\"Probablity distribution\")\n",
    "\n",
    "\n",
    "# Calculate bin centers\n",
    "bin_centers = (bin_edges[:-1] + bin_edges[1:]) / 2\n",
    "\n",
    "# Calculate mean and standard deviation (sigma) of the histogram data\n",
    "mean = np.average(bin_centers, weights=counts)\n",
    "variance = np.average((bin_centers - mean) ** 2, weights=counts)\n",
    "sigma = np.sqrt(variance)\n",
    "\n",
    "# Annotate the mean and sigma on the plot\n",
    "plt.axvline(mean, color='r', linestyle='dashed', linewidth=1)\n",
    "plt.text(mean, plt.ylim()[1]*0.9, f'Mean = {mean:.2f}', color='r', horizontalalignment='right', verticalalignment='top')\n",
    "plt.text(mean, plt.ylim()[1]*0.8, f'Sigma = {sigma:.2f}', color='r', horizontalalignment='right', verticalalignment='top')\n",
    "plt.show()\n"
   ]
  },
  {
   "cell_type": "code",
   "execution_count": 7,
   "id": "548ac34e",
   "metadata": {},
   "outputs": [
    {
     "ename": "SyntaxError",
     "evalue": "invalid syntax (3553391631.py, line 1)",
     "output_type": "error",
     "traceback": [
      "\u001b[0;36m  Input \u001b[0;32mIn [7]\u001b[0;36m\u001b[0m\n\u001b[0;31m    counts, bin_edges, _ = plt.hist(, bins=50, density=True, alpha=0.2, color='red')\u001b[0m\n\u001b[0m                                    ^\u001b[0m\n\u001b[0;31mSyntaxError\u001b[0m\u001b[0;31m:\u001b[0m invalid syntax\n"
     ]
    }
   ],
   "source": [
    "counts, bin_edges, _ = plt.hist(, bins=50, density=True, alpha=0.2, color='red')\n",
    "plt.title(\"Mean of exponentials\")\n",
    "plt.xlabel(\"Mean\")\n",
    "plt.ylabel(\"Probablity distribution\")\n",
    "\n",
    "# Calculate bin centers\n",
    "bin_centers = (bin_edges[:-1] + bin_edges[1:]) / 2\n",
    "\n",
    "# Calculate mean and standard deviation (sigma) of the histogram data\n",
    "mean = np.average(bin_centers, weights=counts)\n",
    "variance = np.average((bin_centers - mean) ** 2, weights=counts)\n",
    "sigma = np.sqrt(variance)\n",
    "\n",
    "# Annotate the mean and sigma on the plot\n",
    "plt.axvline(mean, color='r', linestyle='dashed', linewidth=1)\n",
    "plt.text(mean, plt.ylim()[1]*0.9, f'Mean = {mean:.2f}', color='r', horizontalalignment='right', verticalalignment='top')\n",
    "plt.text(mean, plt.ylim()[1]*0.8, f'Sigma = {sigma:.4f}', color='r', horizontalalignment='right', verticalalignment='top')\n",
    "plt.show()\n"
   ]
  },
  {
   "cell_type": "code",
   "execution_count": null,
   "id": "b16dc971",
   "metadata": {},
   "outputs": [],
   "source": []
  },
  {
   "cell_type": "code",
   "execution_count": null,
   "id": "a19856ef",
   "metadata": {},
   "outputs": [],
   "source": []
  },
  {
   "cell_type": "code",
   "execution_count": null,
   "id": "84bb0b00",
   "metadata": {},
   "outputs": [],
   "source": []
  }
 ],
 "metadata": {
  "kernelspec": {
   "display_name": "Python 3 (ipykernel)",
   "language": "python",
   "name": "python3"
  },
  "language_info": {
   "codemirror_mode": {
    "name": "ipython",
    "version": 3
   },
   "file_extension": ".py",
   "mimetype": "text/x-python",
   "name": "python",
   "nbconvert_exporter": "python",
   "pygments_lexer": "ipython3",
   "version": "3.9.12"
  }
 },
 "nbformat": 4,
 "nbformat_minor": 5
}
