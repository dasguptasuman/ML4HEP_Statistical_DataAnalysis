{
 "cells": [
  {
   "cell_type": "markdown",
   "id": "5cb1f185",
   "metadata": {},
   "source": [
    "# start"
   ]
  },
  {
   "cell_type": "markdown",
   "id": "d8be5241",
   "metadata": {},
   "source": [
    "# Define gradient decent function"
   ]
  },
  {
   "cell_type": "code",
   "execution_count": 1,
   "id": "3d3fb8a9",
   "metadata": {},
   "outputs": [],
   "source": [
    "import numpy as np\n",
    "from scipy.stats import expon\n",
    "from scipy.optimize import minimize\n",
    "vector_at_diff = []\n",
    "vector_point = []\n",
    "def gradient_descent(\n",
    "    gradient, start, learn_rate, n_iter=50, tolerance=1e-06):\n",
    "    vector = start\n",
    "    for _ in range(n_iter):\n",
    "        vector_at_diff.append(np.abs(vector))\n",
    "        \n",
    "        diff = -learn_rate * gradient(vector)\n",
    "        if vector >= 0:\n",
    "            vector_point.append(np.sqrt(np.abs(vector)))\n",
    "        else:\n",
    "            vector_point.append(-np.sqrt(np.abs(vector)))\n",
    "             \n",
    "        if np.all(np.abs(diff) <= tolerance):\n",
    "            break\n",
    "        vector += diff\n",
    "\n",
    "    return vector\n"
   ]
  },
  {
   "cell_type": "markdown",
   "id": "aef82d61",
   "metadata": {},
   "source": [
    "# Binned likelihood"
   ]
  },
  {
   "cell_type": "code",
   "execution_count": 2,
   "id": "62dbba70",
   "metadata": {},
   "outputs": [
    {
     "name": "stdout",
     "output_type": "stream",
     "text": [
      "Maximum Likelihood Estimate (MLE) of lambda: 2.1887695312500024e+00\n"
     ]
    }
   ],
   "source": [
    "np.random.seed(1)\n",
    "data = np.random.exponential(scale=2.2, size=10000)\n",
    "num_bins = 30\n",
    "bin_counts, bin_edges = np.histogram(data, bins=num_bins + 1)\n",
    "bin_width = np.diff(bin_edges)\n",
    "bin_centers = (bin_edges[1:] + bin_edges[:-1])/2\n",
    "def binned_likelihood(params, bin_counts, bin_edges):\n",
    "    λ = params[0]\n",
    "    expected_counts = len(data) *1/λ* np.exp((-1/λ) * bin_centers)*bin_width\n",
    "    \n",
    "    log_likelihoods =  bin_counts * np.log(expected_counts)\n",
    "    total_log_likelihood = np.sum(log_likelihoods)   \n",
    "    return -total_log_likelihood \n",
    "initial_guess = [1]\n",
    "result = minimize(binned_likelihood, initial_guess, args=(bin_counts, bin_edges), method='Nelder-Mead')\n",
    "\n",
    "lambda_hat = result.x[0]\n",
    "print(\"Maximum Likelihood Estimate (MLE) of lambda:\", lambda_hat)"
   ]
  },
  {
   "cell_type": "code",
   "execution_count": 3,
   "id": "0fc0df52",
   "metadata": {},
   "outputs": [],
   "source": [
    "import matplotlib.pyplot as plt"
   ]
  },
  {
   "cell_type": "code",
   "execution_count": 4,
   "id": "1dff973b",
   "metadata": {},
   "outputs": [],
   "source": [
    "fitted_parameter = gradient_descent(\n",
    "    gradient=lambda λ: -np.sum(bin_counts*bin_width*(-1/λ)+(bin_counts*bin_width*bin_centers)/λ**2), start=3, learn_rate= .00001 , n_iter = 500000, tolerance = .0000001 )"
   ]
  },
  {
   "cell_type": "code",
   "execution_count": 5,
   "id": "c5b77148",
   "metadata": {},
   "outputs": [
    {
     "data": {
      "text/plain": [
       "2.1887550838141583"
      ]
     },
     "execution_count": 5,
     "metadata": {},
     "output_type": "execute_result"
    }
   ],
   "source": [
    "fitted_parameter"
   ]
  },
  {
   "cell_type": "code",
   "execution_count": 6,
   "id": "e2a2d5c0",
   "metadata": {
    "scrolled": false
   },
   "outputs": [
    {
     "data": {
      "image/png": "[encoded data removed]",
      "text/plain": [
       "<Figure size 432x288 with 1 Axes>"
      ]
     },
     "metadata": {
      "needs_background": "light"
     },
     "output_type": "display_data"
    }
   ],
   "source": [
    "\n",
    "plt.plot(bin_centers,(1/fitted_parameter)*np.exp(-bin_centers/fitted_parameter),marker='o',linestyle = '-', label = 'Fitted exponential')\n",
    "plt.hist(data, bins = len(bin_centers),density=True,alpha = .6, color ='r',label = 'data')\n",
    "plt.xlabel('value')\n",
    "plt.ylabel('Frequency')\n",
    "plt.title(\"exponential distribution Fitting with binned likelyhood method\")\n",
    "plt.legend()\n",
    "plt.show()"
   ]
  },
  {
   "cell_type": "markdown",
   "id": "d7c38dee",
   "metadata": {},
   "source": [
    "# end"
   ]
  },
  {
   "cell_type": "code",
   "execution_count": null,
   "id": "85522c7f",
   "metadata": {},
   "outputs": [],
   "source": []
  },
  {
   "cell_type": "code",
   "execution_count": null,
   "id": "e58f18c6",
   "metadata": {},
   "outputs": [],
   "source": []
  },
  {
   "cell_type": "code",
   "execution_count": null,
   "id": "1e34d15a",
   "metadata": {},
   "outputs": [],
   "source": []
  }
 ],
 "metadata": {
  "kernelspec": {
   "display_name": "Python 3 (ipykernel)",
   "language": "python",
   "name": "python3"
  },
  "language_info": {
   "codemirror_mode": {
    "name": "ipython",
    "version": 3
   },
   "file_extension": ".py",
   "mimetype": "text/x-python",
   "name": "python",
   "nbconvert_exporter": "python",
   "pygments_lexer": "ipython3",
   "version": "3.9.12"
  }
 },
 "nbformat": 4,
 "nbformat_minor": 5
}
