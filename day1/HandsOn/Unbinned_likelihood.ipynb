{
 "cells": [
  {
   "cell_type": "code",
   "execution_count": 2,
   "id": "5cd5b415",
   "metadata": {},
   "outputs": [],
   "source": [
    "import numpy as np\n",
    "from scipy.optimize import minimize\n",
    "import matplotlib.pyplot as plt"
   ]
  },
  {
   "cell_type": "code",
   "execution_count": null,
   "id": "9a13bac6",
   "metadata": {},
   "outputs": [],
   "source": [
    "np.random.seed(1)\n",
    "data = # Genarate 10000 data points according to Exponential distribution"
   ]
  },
  {
   "cell_type": "code",
   "execution_count": null,
   "id": "fa712c70",
   "metadata": {},
   "outputs": [],
   "source": [
    "def neg_log_likelihood(params, data):\n",
    "    rate = params[0]\n",
    "    neg_log_likelihood = # Calculated neg_log_likelihood for unbinned data \n",
    "    return neg_log_likelihood\n",
    "initial_guess = [1.0]\n",
    "result = minimize(neg_log_likelihood, initial_guess, args=(data,), method='Nelder-Mead')\n",
    "rate_fit = result.x[0]"
   ]
  },
  {
   "cell_type": "code",
   "execution_count": null,
   "id": "d48d77a9",
   "metadata": {},
   "outputs": [],
   "source": [
    "x= np.linspace(0,np.max(data),20)\n",
    "plt.plot(x,((1.0/rate_fit)*np.exp(-x/rate_fit)),marker='o',linestyle = '-', label = 'Fitted exponential')\n",
    "plt.xlabel('value')\n",
    "plt.ylabel('Frequency')\n",
    "plt.title(\"exponential distribution Fitting with unbinned likelyhood method\")\n",
    "plt.legend()\n",
    "plt.plot()\n",
    "plt.hist(data, bins = 30 ,density=True,alpha = .6, color ='g',label = 'data')\n",
    "plt.show()\n",
    "print(\"Fitted rate parameter by Scipy:\" ,rate_fit)"
   ]
  },
  {
   "cell_type": "markdown",
   "id": "60d455d7",
   "metadata": {},
   "source": [
    "# By Gradient descent method."
   ]
  },
  {
   "cell_type": "code",
   "execution_count": null,
   "id": "42e9ae97",
   "metadata": {},
   "outputs": [],
   "source": [
    "def gradient_descent(\n",
    "    gradient, start, learn_rate, n_iter=50, tolerance=1e-06):\n",
    "    vector = start\n",
    "    for _ in range(n_iter):\n",
    "        diff = -learn_rate * gradient(vector)    \n",
    "        if np.all(np.abs(diff) <= tolerance):\n",
    "            break\n",
    "        vector += diff\n",
    "    return vector"
   ]
  },
  {
   "cell_type": "code",
   "execution_count": 4,
   "id": "47d027dd",
   "metadata": {},
   "outputs": [
    {
     "data": {
      "text/plain": [
       "1.0115867507996041"
      ]
     },
     "execution_count": 4,
     "metadata": {},
     "output_type": "execute_result"
    }
   ],
   "source": [
    "gradient_descent(\n",
    "     gradient=lambda rate: ((-len(data)/rate )+ np.sum(data)), start=1.2, \n",
    "    learn_rate= .0001 , n_iter = 5000, tolerance = .000001 )"
   ]
  },
  {
   "cell_type": "code",
   "execution_count": null,
   "id": "5c4ea156",
   "metadata": {},
   "outputs": [],
   "source": []
  }
 ],
 "metadata": {
  "kernelspec": {
   "display_name": "Python 3 (ipykernel)",
   "language": "python",
   "name": "python3"
  },
  "language_info": {
   "codemirror_mode": {
    "name": "ipython",
    "version": 3
   },
   "file_extension": ".py",
   "mimetype": "text/x-python",
   "name": "python",
   "nbconvert_exporter": "python",
   "pygments_lexer": "ipython3",
   "version": "3.9.12"
  }
 },
 "nbformat": 4,
 "nbformat_minor": 5
}
