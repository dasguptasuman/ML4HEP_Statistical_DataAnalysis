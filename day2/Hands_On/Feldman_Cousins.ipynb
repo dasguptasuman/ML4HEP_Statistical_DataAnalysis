{
 "cells": [
  {
   "cell_type": "code",
   "execution_count": null,
   "id": "33094869",
   "metadata": {},
   "outputs": [],
   "source": [
    "import numpy as np\n",
    "from scipy.stats import norm\n",
    "import ROOT\n",
    "from scipy.stats import poisson"
   ]
  },
  {
   "cell_type": "code",
   "execution_count": null,
   "id": "998faf76",
   "metadata": {},
   "outputs": [],
   "source": [
    "from array import array"
   ]
  },
  {
   "cell_type": "code",
   "execution_count": null,
   "id": "528f6221",
   "metadata": {},
   "outputs": [],
   "source": [
    "mu_true = np.linspace(0, 20, 2001)\n",
    "len(mu_true)"
   ]
  },
  {
   "cell_type": "code",
   "execution_count": null,
   "id": "7a401fbd",
   "metadata": {},
   "outputs": [],
   "source": [
    "mu_true"
   ]
  },
  {
   "cell_type": "code",
   "execution_count": null,
   "id": "5a464dfe",
   "metadata": {},
   "outputs": [],
   "source": [
    "bkg = 3"
   ]
  },
  {
   "cell_type": "code",
   "execution_count": null,
   "id": "75d749c5",
   "metadata": {},
   "outputs": [],
   "source": [
    "def Possion(n,mu):\n",
    "    mu = mu + bkg\n",
    "    p = # Generate possion distribution\n",
    "    return p"
   ]
  },
  {
   "cell_type": "code",
   "execution_count": null,
   "id": "e7800fb2",
   "metadata": {},
   "outputs": [],
   "source": [
    "def Limit(arr):\n",
    "    cumulative_sum = 0\n",
    "    cumulative_sum_array = [0]\n",
    "    result_array = []\n",
    "    # Construct limit"
   ]
  },
  {
   "cell_type": "code",
   "execution_count": null,
   "id": "1063b879",
   "metadata": {},
   "outputs": [],
   "source": [
    "Lower_limit = []\n",
    "Upper_limit = []"
   ]
  },
  {
   "cell_type": "code",
   "execution_count": null,
   "id": "5e5636e6",
   "metadata": {},
   "outputs": [],
   "source": [
    "for mu in mu_true:\n",
    "        #mu = 0.1\n",
    "        n = np.arange(0,40)\n",
    "        mu_best = np.maximum(0, n-bkg)\n",
    "        R = # Construct Likelihood ratio\n",
    "        Prob = Possion(n,mu)\n",
    "        index = # Sorting the order\n",
    "        Sort_Prob = #Sort the probablity\n",
    "        End_point = Limit(Sort_Prob)\n",
    "        n_bound = n[index][:End_point+1]\n",
    "        upper_limit = \n",
    "        lower_limit = \n",
    "        Lower_limit.append(lower_limit)\n",
    "        Upper_limit.append(upper_limit)"
   ]
  },
  {
   "cell_type": "code",
   "execution_count": null,
   "id": "3fd03dbf",
   "metadata": {},
   "outputs": [],
   "source": [
    "step_upper = np.where(np.diff((np.array(Upper_limit))) != 0)\n",
    "step_lower = np.where(np.diff((np.array(Lower_limit))) != 0)"
   ]
  },
  {
   "cell_type": "code",
   "execution_count": null,
   "id": "a5ab7a28",
   "metadata": {},
   "outputs": [],
   "source": [
    "mu_up = \n",
    "mu_up = array(\"d\", mu_up)"
   ]
  },
  {
   "cell_type": "code",
   "execution_count": null,
   "id": "5f212980",
   "metadata": {},
   "outputs": [],
   "source": [
    "mu_lo = \n",
    "mu_lo = array(\"d\", mu_lo)"
   ]
  },
  {
   "cell_type": "code",
   "execution_count": null,
   "id": "ef693e45",
   "metadata": {},
   "outputs": [],
   "source": [
    "bin_center1 = np.arange(0.5, 16.5, 1.0)\n",
    "bin_center1 = array(\"d\", bin_center1)"
   ]
  },
  {
   "cell_type": "code",
   "execution_count": null,
   "id": "963332ea",
   "metadata": {},
   "outputs": [],
   "source": [
    "bin_center2 = np.arange(5.5, 31.5, 1.0)\n",
    "bin_center2 = array(\"d\", bin_center2)"
   ]
  },
  {
   "cell_type": "code",
   "execution_count": null,
   "id": "0ad17048",
   "metadata": {},
   "outputs": [],
   "source": [
    "hlower_limit = ROOT.TGraph(len(mu_lo), bin_center1, mu_lo)\n",
    "hupper_limit = ROOT.TGraph(len(mu_up), bin_center2, mu_up)"
   ]
  },
  {
   "cell_type": "code",
   "execution_count": null,
   "id": "9baa0432",
   "metadata": {},
   "outputs": [],
   "source": [
    "# Create TMultiGraph\n",
    "TG = ROOT.TMultiGraph()\n",
    "hupper_limit.SetMarkerStyle(3)  # 20 corresponds to a filled circle\n",
    "hlower_limit.SetMarkerStyle(3)\n",
    "hupper_limit.SetMarkerColor(2)\n",
    "hlower_limit.SetMarkerColor(4)\n",
    "\n",
    "TG.Add(hlower_limit, \"AP\")\n",
    "TG.Add(hupper_limit, \"AP\")"
   ]
  },
  {
   "cell_type": "code",
   "execution_count": null,
   "id": "e894ed2d",
   "metadata": {},
   "outputs": [],
   "source": [
    "# In[44]:\n",
    "\n",
    "\n",
    "# Create canvas\n",
    "canvas = ROOT.TCanvas(\"canvas\", \"Confidence belt for Poisson distribution\", 800, 600)\n",
    "\n",
    "# Draw TMultiGraph\n",
    "TG.Draw(\"A\")\n",
    "\n",
    "TG.GetXaxis().SetTitle(\"Measured n\")\n",
    "TG.GetYaxis().SetTitle(\"Signal mean Mu\")\n",
    "\n",
    "TG.GetXaxis().SetRangeUser(0, 15)\n",
    "TG.GetYaxis().SetRangeUser(0, 15)\n",
    "# Show the canvas\n",
    "canvas.SaveAs(\"output.jpg\")"
   ]
  },
  {
   "cell_type": "code",
   "execution_count": null,
   "id": "abe1c538",
   "metadata": {},
   "outputs": [],
   "source": []
  },
  {
   "cell_type": "code",
   "execution_count": null,
   "id": "dd9e6c58",
   "metadata": {},
   "outputs": [],
   "source": []
  },
  {
   "cell_type": "code",
   "execution_count": null,
   "id": "c64ad552",
   "metadata": {},
   "outputs": [],
   "source": []
  },
  {
   "cell_type": "code",
   "execution_count": null,
   "id": "1b89a799",
   "metadata": {},
   "outputs": [],
   "source": []
  },
  {
   "cell_type": "code",
   "execution_count": null,
   "id": "8de9c54f",
   "metadata": {},
   "outputs": [],
   "source": []
  },
  {
   "cell_type": "code",
   "execution_count": null,
   "id": "fdf72e7a",
   "metadata": {},
   "outputs": [],
   "source": []
  },
  {
   "cell_type": "code",
   "execution_count": null,
   "id": "66fb7560",
   "metadata": {},
   "outputs": [],
   "source": []
  },
  {
   "cell_type": "code",
   "execution_count": null,
   "id": "0edfd9f2",
   "metadata": {},
   "outputs": [],
   "source": []
  }
 ],
 "metadata": {
  "kernelspec": {
   "display_name": "Python 3 (ipykernel)",
   "language": "python",
   "name": "python3"
  },
  "language_info": {
   "codemirror_mode": {
    "name": "ipython",
    "version": 3
   },
   "file_extension": ".py",
   "mimetype": "text/x-python",
   "name": "python",
   "nbconvert_exporter": "python",
   "pygments_lexer": "ipython3",
   "version": "3.9.12"
  }
 },
 "nbformat": 4,
 "nbformat_minor": 5
}
