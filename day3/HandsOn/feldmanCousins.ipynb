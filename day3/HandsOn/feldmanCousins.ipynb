{
 "cells": [
  {
   "cell_type": "code",
   "execution_count": 48,
   "id": "39c84470",
   "metadata": {},
   "outputs": [],
   "source": [
    "###Developer: Suman Dasgupta\n",
    "\n",
    "import numpy as np\n",
    "from scipy.stats import norm\n",
    "import ROOT\n",
    "from scipy.stats import poisson\n",
    "from array import array"
   ]
  },
  {
   "cell_type": "code",
   "execution_count": 49,
   "id": "e8b7bd33",
   "metadata": {},
   "outputs": [],
   "source": [
    "#mu_true = np.linspace(0, 20, 20001)\n",
    "mu_true = np.linspace(0, 20, 21)\n",
    "len(mu_true)\n",
    "bkg = 3"
   ]
  },
  {
   "cell_type": "code",
   "execution_count": 50,
   "id": "5cac749f",
   "metadata": {},
   "outputs": [],
   "source": [
    "def Possion(n,mu):\n",
    "    mu = mu + bkg\n",
    "    p = poisson.pmf(n, mu)\n",
    "    return p"
   ]
  },
  {
   "cell_type": "code",
   "execution_count": 51,
   "id": "893a19e3",
   "metadata": {},
   "outputs": [],
   "source": [
    "def Limit(arr):\n",
    "    cumulative_sum = 0\n",
    "    cumulative_sum_array = [0]\n",
    "    result_array = []\n",
    "    for i in range(len(arr)):\n",
    "        cumulative_sum += arr[i]\n",
    "        cumulative_sum_array.append(cumulative_sum)\n",
    "        #print(f\"{cumulative_sum} : {cumulative_sum_array[i]}\")\n",
    "        if ((cumulative_sum <= 0.9) or ((cumulative_sum > 0.9) and (cumulative_sum_array[i]<=0.9))):\n",
    "            result_array.append(arr[i])\n",
    "    return len(result_array)-1"
   ]
  },
  {
   "cell_type": "code",
   "execution_count": 52,
   "id": "0c9ed17e",
   "metadata": {},
   "outputs": [
    {
     "data": {
      "text/plain": [
       "array([0, 1, 2, 3, 4, 5, 6, 7, 8, 9])"
      ]
     },
     "execution_count": 52,
     "metadata": {},
     "output_type": "execute_result"
    }
   ],
   "source": [
    "Lower_limit = []\n",
    "Upper_limit = []\n",
    "np.arange(0,10)"
   ]
  },
  {
   "cell_type": "code",
   "execution_count": 53,
   "id": "b028f008",
   "metadata": {},
   "outputs": [],
   "source": [
    "for mu in mu_true:\n",
    "        #mu = 0.1\n",
    "        n = np.arange(0,40)\n",
    "       \n",
    "        mu_best = np.maximum(0, n-bkg)\n",
    "        R = Possion(n,mu)/Possion(n,mu_best)\n",
    "        Prob = Possion(n,mu)\n",
    "        index = np.argsort(R)[::-1]\n",
    "        Sort_Prob = Prob[index]\n",
    "        End_point = Limit(Sort_Prob)\n",
    "        \n",
    "        ### This extracts the elements of n in the order specified by index from the beginning up to End_point + 1.\n",
    "        n_bound = n[index][:End_point+1]  \n",
    "        upper_limit = np.max(n_bound)\n",
    "        lower_limit = np.min(n_bound)\n",
    "        Lower_limit.append(lower_limit)\n",
    "        Upper_limit.append(upper_limit)"
   ]
  },
  {
   "cell_type": "code",
   "execution_count": 54,
   "id": "78a8739a",
   "metadata": {},
   "outputs": [],
   "source": [
    "'''\n",
    "step_upper = np.where(np.diff((np.array(Upper_limit))) != 0)\n",
    "step_lower = np.where(np.diff((np.array(Lower_limit))) != 0)\n",
    "\n",
    "mu_lo = mu_true[step_lower]\n",
    "mu_lo = array(\"d\", mu_lo)\n",
    "\n",
    "mu_up = mu_true[step_upper]\n",
    "mu_up = array(\"d\", mu_up)\n",
    "\n",
    "\n",
    "bin_center1 = np.arange(0.5, 16.5, 1.0)\n",
    "bin_center1 = array(\"d\", bin_center1)\n",
    "\n",
    "\n",
    "bin_center2 = np.arange(5.5, 31.5, 1.0)\n",
    "bin_center2 = array(\"d\", bin_center2)\n",
    "\n",
    "\n",
    "hlower_limit = ROOT.TGraph(len(mu_lo), bin_center1, mu_lo)\n",
    "hupper_limit = ROOT.TGraph(len(mu_up), bin_center2, mu_up)\n",
    "'''\n",
    "\n",
    "ul = array(\"d\",Upper_limit)\n",
    "ll = array(\"d\",Lower_limit)\n",
    "\n",
    "mu_true = array(\"d\",mu_true)\n",
    "\n",
    "hlower_limit = ROOT.TGraph(len(ul),ll , mu_true)\n",
    "hupper_limit = ROOT.TGraph(len(ll), ul, mu_true)\n",
    "\n"
   ]
  },
  {
   "cell_type": "code",
   "execution_count": 55,
   "id": "41bce2c9",
   "metadata": {},
   "outputs": [
    {
     "name": "stderr",
     "output_type": "stream",
     "text": [
      "Warning in <TCanvas::Constructor>: Deleting canvas with same name: canvas\n",
      "Info in <TCanvas::Print>: jpg file output.jpg has been created\n"
     ]
    }
   ],
   "source": [
    "# Create TMultiGraph\n",
    "TG = ROOT.TMultiGraph()\n",
    "hupper_limit.SetMarkerStyle(3)  # 20 corresponds to a filled circle\n",
    "hlower_limit.SetMarkerStyle(3)\n",
    "hupper_limit.SetMarkerColor(2)\n",
    "hlower_limit.SetMarkerColor(4)\n",
    "\n",
    "TG.Add(hlower_limit, \"AP\")\n",
    "TG.Add(hupper_limit, \"AP\")\n",
    "\n",
    "\n",
    "# Create canvas\n",
    "canvas = ROOT.TCanvas(\"canvas\", \"Confidence belt for Poisson distribution\", 800, 600)\n",
    "\n",
    "# Draw TMultiGraph\n",
    "TG.Draw(\"A\")\n",
    "\n",
    "TG.GetXaxis().SetTitle(\"Measured n\")\n",
    "TG.GetYaxis().SetTitle(\"Signal mean Mu\")\n",
    "\n",
    "TG.GetXaxis().SetRangeUser(0, 15)\n",
    "TG.GetYaxis().SetRangeUser(0, 15)\n",
    "# Show the canvas\n",
    "canvas.SaveAs(\"output.jpg\")\n"
   ]
  },
  {
   "cell_type": "code",
   "execution_count": null,
   "id": "a26ceb5a",
   "metadata": {},
   "outputs": [],
   "source": []
  },
  {
   "cell_type": "code",
   "execution_count": null,
   "id": "37068cd0",
   "metadata": {},
   "outputs": [],
   "source": []
  }
 ],
 "metadata": {
  "kernelspec": {
   "display_name": "Python 3",
   "language": "python",
   "name": "python3"
  },
  "language_info": {
   "codemirror_mode": {
    "name": "ipython",
    "version": 3
   },
   "file_extension": ".py",
   "mimetype": "text/x-python",
   "name": "python",
   "nbconvert_exporter": "python",
   "pygments_lexer": "ipython3",
   "version": "3.9.12"
  }
 },
 "nbformat": 4,
 "nbformat_minor": 5
}
