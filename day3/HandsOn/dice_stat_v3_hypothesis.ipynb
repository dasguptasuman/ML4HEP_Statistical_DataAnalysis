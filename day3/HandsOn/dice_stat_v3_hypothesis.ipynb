{
 "cells": [
  {
   "cell_type": "code",
   "execution_count": null,
   "id": "5961889d",
   "metadata": {},
   "outputs": [
    {
     "ename": "",
     "evalue": "",
     "output_type": "error",
     "traceback": [
      "\u001b[1;31mFailed to start the Kernel. \n",
      "\u001b[1;31mFailed to start the Kernel 'Python 3.7.3'. \n",
      "\u001b[1;31mView Jupyter <a href='command:jupyter.viewOutput'>log</a> for further details. Activating /Users/shilpi2015/.pyenv/versions/3.7.3/bin/python to run Jupyter failed with function toString() { [native code] }"
     ]
    }
   ],
   "source": [
    "### Developer - Laltu Gazi, SINP\n",
    "\n",
    "### The problem is: How will you tell a dice is biased in a toss of 100 trials using frequentist way of hypothesis testing. \n",
    "\n",
    "from scipy.stats import chi2\n",
    "import numpy as np \n",
    "from scipy import stats\n",
    "from scipy.special import comb\n",
    "import matplotlib.pyplot as plt\n",
    "observed_heads = 46\n",
    "\n",
    "H_0 = .5 ### It is the true value of p. For simultaneous toses of multiples coins with different levels of bias we will need an array \n",
    "H_1 = .46\n",
    "number_of_trials = 100\n",
    "number_exp = 10000\n",
    "\n",
    "### generate several experiments (number_exp) and in each experiment number of trials = 100\n",
    "number_of_heads = np.array(np.random.binomial(number_of_trials, H_0, number_exp))  ### number of heads/success\n",
    "\n",
    "plt.hist(number_of_heads, bins=100,range = (0,100))\n",
    "plt.show()\n",
    "\n",
    "nbins = 40\n",
    "lowrange = 0\n",
    "highrange = 20"
   ]
  },
  {
   "cell_type": "code",
   "execution_count": 68,
   "id": "66d40c1a",
   "metadata": {},
   "outputs": [
    {
     "data": {
      "image/png": "[encoded data removed]",
      "text/plain": [
       "<Figure size 432x288 with 1 Axes>"
      ]
     },
     "metadata": {
      "needs_background": "light"
     },
     "output_type": "display_data"
    }
   ],
   "source": [
    "### parameter to test is the p (probability of success) parameter. \n",
    "### Take that value of parameter  that maximizes the denominator likelihood\n",
    "### In the numerator its the hypothesis to be tested, so p = H_0\n",
    "### Denominator is maximized by n_successes/n_trials\n",
    "\n",
    "### get the value of Likelihood for hte numerator using binomial distribution\n",
    "\n",
    "### the denominator is maximized for that p = number_of_heads/number_of_trials\n",
    "\n",
    "## calculate their ratios\n",
    "λ_μ = L_01/L_1\n",
    "\n",
    "t_μ = -2*np.log(λ_μ)\n",
    "plt.hist(t_μ, bins=nbins,range = (lowrange, highrange))\n",
    "plt.show()"
   ]
  },
  {
   "cell_type": "code",
   "execution_count": 63,
   "id": "c72cf508",
   "metadata": {},
   "outputs": [
    {
     "data": {
      "image/png": "[encoded data removed]",
      "text/plain": [
       "<Figure size 432x288 with 1 Axes>"
      ]
     },
     "metadata": {
      "needs_background": "light"
     },
     "output_type": "display_data"
    },
    {
     "name": "stdout",
     "output_type": "stream",
     "text": [
      "  params: FitParams(df=1.2292522749582322, loc=0.0, scale=1.0)\n",
      " success: False\n",
      " message: 'Optimization converged to parameter values that are inconsistent with the data.'\n"
     ]
    }
   ],
   "source": []
  },
  {
   "cell_type": "code",
   "execution_count": 72,
   "id": "088ef43f",
   "metadata": {},
   "outputs": [
    {
     "name": "stdout",
     "output_type": "stream",
     "text": [
      "119.02161345604266\n"
     ]
    }
   ],
   "source": [
    "### Now calculate the p value of the observed value\n",
    "\n",
    "### first calculate the same test statistic, i.e. -2*log(Lnum/Ldeno)\n"
   ]
  },
  {
   "cell_type": "markdown",
   "id": "2f0d50f7",
   "metadata": {},
   "source": []
  },
  {
   "cell_type": "code",
   "execution_count": 73,
   "id": "45d87868",
   "metadata": {},
   "outputs": [
    {
     "data": {
      "image/png": "[encoded data removed]",
      "text/plain": [
       "<Figure size 432x288 with 1 Axes>"
      ]
     },
     "metadata": {
      "needs_background": "light"
     },
     "output_type": "display_data"
    }
   ],
   "source": [
    "plt.hist(t_μ, bins=40,range = (0,20))\n",
    "plt.axvline(x=t_data, color='r', linestyle='--', linewidth=2, label=f't_data = {t_μ}')\n",
    "plt.show()"
   ]
  },
  {
   "cell_type": "code",
   "execution_count": 74,
   "id": "e7571f2a",
   "metadata": {},
   "outputs": [
    {
     "name": "stdout",
     "output_type": "stream",
     "text": [
      "p value is 0.0\n"
     ]
    }
   ],
   "source": [
    "### calculate p-value\n",
    "\n",
    "# Calculate the histogram\n",
    "counts, bin_edges = np.histogram(t_μ, bins=nbins, range=(lowrange, highrange))\n",
    "\n",
    "# Find the bin index where the vertical line intersects\n",
    "bin_index = np.digitize(t_data, bin_edges) - 1\n",
    "\n",
    "# Sum the counts to the right of the line\n",
    "area_right = np.sum(counts[bin_index:])\n",
    "total_area = np.sum(counts)\n",
    "\n",
    "# Calculate the fraction\n",
    "fraction_area_right = area_right / total_area\n",
    "\n",
    "print(f\"p value is {fraction_area_right}\")"
   ]
  },
  {
   "cell_type": "code",
   "execution_count": null,
   "id": "c1b58dd1",
   "metadata": {},
   "outputs": [],
   "source": []
  }
 ],
 "metadata": {
  "kernelspec": {
   "display_name": "Python 3",
   "language": "python",
   "name": "python3"
  },
  "language_info": {
   "codemirror_mode": {
    "name": "ipython",
    "version": 3
   },
   "file_extension": ".py",
   "mimetype": "text/x-python",
   "name": "python",
   "nbconvert_exporter": "python",
   "pygments_lexer": "ipython3",
   "version": "3.7.3"
  }
 },
 "nbformat": 4,
 "nbformat_minor": 5
}
