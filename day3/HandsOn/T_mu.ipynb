{
 "cells": [
  {
   "cell_type": "code",
   "execution_count": 9,
   "id": "f9c6421b",
   "metadata": {},
   "outputs": [],
   "source": [
    "import ROOT as r"
   ]
  },
  {
   "cell_type": "code",
   "execution_count": 10,
   "id": "1a5df9b8",
   "metadata": {},
   "outputs": [
    {
     "name": "stdout",
     "output_type": "stream",
     "text": [
      "[#0] WARNING:InputArguments -- The parameter 'sigma' with range [-inf, inf] of the RooGaussian 'gauss' exceeds the safe range of (0, inf). Advise to limit its range.\n",
      "[#1] INFO:ObjectHandling -- RooWorkspace::import() importing dataset model2Data\n",
      "[#1] INFO:ObjectHandling -- RooWorkSpace::import() changing name of dataset from  model2Data to data\n",
      "\n",
      "RooWorkspace()  contents\n",
      "\n",
      "variables\n",
      "---------\n",
      "(bkgfrac,l,l1,mu,mu1,sigma,sigma1,x)\n",
      "\n",
      "p.d.f.s\n",
      "-------\n",
      "RooGaussian::gauss[ x=x mean=mu sigma=sigma ] = 1\n",
      "RooGaussian::gauss1[ x=x mean=mu1 sigma=sigma1 ] = 1\n",
      "RooAddPdf::model2[ bkgfrac * shape + [%] * gauss ] = 0.300817/1\n",
      "RooExponential::shape[ x=x c=l ] = 0.22313\n",
      "RooExponential::shape1[ x=x c=l1 ] = 0.22313\n",
      "\n",
      "datasets\n",
      "--------\n",
      "RooDataSet::data(x)\n",
      "\n",
      "[#1] INFO:Minimization -- RooAbsMinimizerFcn::setOptimizeConst: activating const optimization\n",
      "[#1] INFO:Minimization --  The following expressions have been identified as constant and will be precalculated and cached: (gauss)\n",
      "[#1] INFO:Minimization --  The following expressions will be evaluated in cache-and-track mode: (shape)\n",
      "Minuit2Minimizer: Minimize with max-calls 1000 convergence for edm < 1 strategy 1\n",
      "Minuit2Minimizer : Valid minimum - status = 0\n",
      "FVAL  = 2032.08847067385682\n",
      "Edm   = 2.21652894872901493e-05\n",
      "Nfcn  = 33\n",
      "bkgfrac\t  = 0.880784\t +/-  0.016237\t(limited)\n",
      "l\t  = -0.301089\t +/-  0.0153622\t(limited)\n",
      "[#1] INFO:Minimization -- RooAbsMinimizerFcn::setOptimizeConst: deactivating const optimization\n",
      "[#1] INFO:Minimization -- RooAbsMinimizerFcn::setOptimizeConst: activating const optimization\n",
      "Minuit2Minimizer: Minimize with max-calls 500 convergence for edm < 1 strategy 1\n",
      "Minuit2Minimizer : Valid minimum - status = 0\n",
      "FVAL  = 2067.16147782214739\n",
      "Edm   = 4.01245432866973315e-05\n",
      "Nfcn  = 16\n",
      "l1\t  = -0.256417\t +/-  0.0127275\t(limited)\n",
      "[#1] INFO:Minimization -- RooAbsMinimizerFcn::setOptimizeConst: deactivating const optimization\n"
     ]
    },
    {
     "name": "stderr",
     "output_type": "stream",
     "text": [
      "Info in <Minuit2>: MnSeedGenerator Computing seed using NumericalGradient calculator\n",
      "Info in <Minuit2>: MnSeedGenerator Initial state: FCN =       2032.847609 Edm =      0.8209762694 NCalls =     11\n",
      "Info in <Minuit2>: MnSeedGenerator Initial state  \n",
      "  Minimum value : 2032.847609\n",
      "  Edm           : 0.8209762694\n",
      "  Internal parameters:\t[     0.6435011088   -0.06003605845]\t\n",
      "  Internal gradient  :\t[       16.4309434     -100.5337878]\t\n",
      "  Internal covariance matrix:\n",
      "[[     0.01152397              0]\n",
      " [              0  1.7088164e-05]]]\n",
      "Info in <Minuit2>: VariableMetricBuilder Start iterating until Edm is < 0.001 with call limit = 1000\n",
      "Info in <Minuit2>: VariableMetricBuilder    0 - FCN =       2032.847609 Edm =      0.8209762694 NCalls =     11\n",
      "Info in <Minuit2>: VariableMetricBuilder    1 - FCN =       2032.139568 Edm =     0.04208764913 NCalls =     17\n",
      "Info in <Minuit2>: VariableMetricBuilder    2 - FCN =       2032.088471 Edm =   2.253328979e-05 NCalls =     23\n",
      "Info in <Minuit2>: VariableMetricBuilder After Hessian\n",
      "Info in <Minuit2>: VariableMetricBuilder    3 - FCN =       2032.088471 Edm =   2.216528949e-05 NCalls =     33\n",
      "Info in <Minuit2>: Minuit2Minimizer::Hesse Using max-calls 1000\n",
      "Info in <Minuit2>: Minuit2Minimizer::Hesse Hesse is valid - matrix is accurate\n",
      "Info in <Minuit2>: MnSeedGenerator Computing seed using NumericalGradient calculator\n",
      "Info in <Minuit2>: MnSeedGenerator Initial state: FCN =       2072.872548 Edm =       5.911197506 NCalls =      5\n",
      "Info in <Minuit2>: MnSeedGenerator Initial state  \n",
      "  Minimum value : 2072.872548\n",
      "  Edm           : 5.911197506\n",
      "  Internal parameters:\t[   -0.06003605845]\t\n",
      "  Internal gradient  :\t[     -1283.505348]\t\n",
      "  Internal covariance matrix:\n",
      "[[  1.4352914e-05]]]\n",
      "Info in <Minuit2>: VariableMetricBuilder Start iterating until Edm is < 0.001 with call limit = 500\n",
      "Info in <Minuit2>: VariableMetricBuilder    0 - FCN =       2072.872548 Edm =       5.911197506 NCalls =      5\n",
      "Info in <Minuit2>: VariableMetricBuilder    1 - FCN =       2067.177617 Edm =     0.01793677335 NCalls =      8\n",
      "Info in <Minuit2>: VariableMetricBuilder    2 - FCN =       2067.161478 Edm =   4.196809902e-05 NCalls =     11\n",
      "Info in <Minuit2>: VariableMetricBuilder After Hessian\n",
      "Info in <Minuit2>: VariableMetricBuilder    3 - FCN =       2067.161478 Edm =   4.012454329e-05 NCalls =     16\n",
      "Info in <Minuit2>: Minuit2Minimizer::Hesse Using max-calls 500\n",
      "Info in <Minuit2>: Minuit2Minimizer::Hesse Hesse is valid - matrix is accurate\n",
      "Warning in <TCanvas::Constructor>: Deleting canvas with same name: Exercise02\n"
     ]
    },
    {
     "data": {
      "image/png": "[encoded data removed]",
      "text/plain": [
       "<IPython.core.display.Image object>"
      ]
     },
     "metadata": {},
     "output_type": "display_data"
    }
   ],
   "source": [
    "### now generate a pseudo data with signal fraction as given in model2\n",
    "\n",
    "wspace = r.RooWorkspace()                                                                                       \n",
    "wspace.factory(\"Gaussian::gauss(x[0,10],mu[5],sigma[.5])\") ## Defines a Gaussian (normal) distribution named gauss.\n",
    "wspace.factory(\"Exponential::shape(x,l[-.3,-5,5])\")  ## Defines an exponential distribution named shape.\n",
    "#\n",
    "\n",
    "wspace.factory(\"SUM::model2(bkgfrac[.9,0.5,1.0]*shape,gauss)\"); ### 0.9 is the fraction of the bkg\n",
    "#\n",
    "wspace.factory(\"Gaussian::gauss1(x[0,10],mu1[5,0,10],sigma1[.5,0.1,10])\")                                       \n",
    "wspace.factory(\"Exponential::shape1(x,l1[-.3,-5,5])\")   \n",
    "\n",
    "\n",
    "data = wspace.pdf(\"model2\").generate(r.RooArgSet(wspace.var(\"x\")), 1000)                                        \n",
    "getattr(wspace, 'import')(data, r.RooFit.Rename(\"data\")) \n",
    "\n",
    "x = wspace.var(\"x\")\n",
    "model_data = wspace.pdf(\"model2\")\n",
    "bkgonly_model = wspace.pdf(\"shape1\")\n",
    "\n",
    "gauss = wspace.pdf(\"gauss\")                                                                                     \n",
    "shape = wspace.pdf(\"shape\")                                                                                     \n",
    "                                                                                                                \n",
    "k = r.RooKeysPdf(\"k\", \"k\", x, data, r.RooKeysPdf.NoMirror, 0.2)                                                 \n",
    "                                              \n",
    "                                                                                                        \n",
    "wspace.Print()  \n",
    "xframe2 = x.frame(r.RooFit.Title(\"Generated data\"))  \n",
    "\n",
    "### in the same as given in q_0, perform the fit to the data and compute ratios of the likelihoods and then the parameter t_mu\n",
    "\n",
    "data.plotOn(xframe2)\n",
    "model_data.plotOn(xframe2,r.RooFit.LineColor(r.kRed),r.RooFit.LineStyle(r.kDashed))\n",
    "\n",
    "bkgonly_model.plotOn(xframe2,r.RooFit.LineColor(r.kBlue),r.RooFit.LineStyle(r.kDashed))\n",
    "c2 = r.TCanvas(\"Exercise02\",\"Exercise02\",800,400) \n",
    "r.gPad.SetLeftMargin(0.15) ; xframe2.GetYaxis().SetTitleOffset(1.6) ; xframe2.Draw() ;  \n",
    "c2.Draw()  \n"
   ]
  },
  {
   "cell_type": "code",
   "execution_count": 11,
   "id": "aef125a3",
   "metadata": {},
   "outputs": [
    {
     "data": {
      "text/plain": [
       "70.14601429658114"
      ]
     },
     "execution_count": 11,
     "metadata": {},
     "output_type": "execute_result"
    }
   ],
   "source": [
    "tμ"
   ]
  },
  {
   "cell_type": "code",
   "execution_count": 15,
   "id": "66c88a46",
   "metadata": {},
   "outputs": [
    {
     "name": "stdout",
     "output_type": "stream",
     "text": [
      "File 'tvaldist.root' opened successfully.\n"
     ]
    },
    {
     "name": "stderr",
     "output_type": "stream",
     "text": [
      "Warning in <TCanvas::Constructor>: Deleting canvas with same name: canvas\n",
      "Info in <TCanvas::Print>: png file histogram_with_line.png has been created\n"
     ]
    },
    {
     "data": {
      "image/png": "[encoded data removed]",
      "text/plain": [
       "<IPython.core.display.Image object>"
      ]
     },
     "metadata": {},
     "output_type": "display_data"
    }
   ],
   "source": [
    "infile = r.TFile.Open(\"tvaldist.root\")\n",
    "if not infile or infile.IsZombie():\n",
    "    print(\"Error: Cannot open file 'tvaldist.root'\")\n",
    "else:\n",
    "    print(\"File 'tvaldist.root' opened successfully.\")\n",
    "    \n",
    "hist = infile.Get(\"histogram\")\n",
    "\n",
    "canvas = r.TCanvas(\"canvas\", \"Histogram with Line\", 800, 600)\n",
    "hist.Draw()\n",
    "\n",
    "line = r.TLine(tμ, 0, tμ, hist.GetMaximum())\n",
    "line.SetLineColor(r.kRed)  # Set line color (optional)\n",
    "line.SetLineWidth(2)  # Set line width (optional)\n",
    "line.Draw(\"same\")\n",
    "\n",
    "# Update and save the canvas\n",
    "canvas.Update()\n",
    "canvas.SaveAs(\"histogram_with_line.png\")\n",
    "        "
   ]
  },
  {
   "cell_type": "code",
   "execution_count": 16,
   "id": "4900a775",
   "metadata": {},
   "outputs": [
    {
     "name": "stdout",
     "output_type": "stream",
     "text": [
      "Total area of histogram: 999.0\n",
      "Area above line at 'line=70.14601429658114': 0.0\n",
      "Ratio of area above 'tμ' to total area: 0.0\n"
     ]
    }
   ],
   "source": [
    "# Calculate the total area of the histogram\n",
    "total_area = hist.Integral()\n",
    "\n",
    "# Initialize variables for area above 'a' and total bins count\n",
    "area_above_line = 0.0\n",
    "total_bins = hist.GetNbinsX()\n",
    "\n",
    "# Loop over histogram bins and sum up areas above 'a'\n",
    "for bin_idx in range(1, total_bins + 1):\n",
    "    bin_center = hist.GetBinCenter(bin_idx)\n",
    "    bin_content = hist.GetBinContent(bin_idx)\n",
    "    \n",
    "    if bin_center > tμ:\n",
    "        area_above_line += bin_content\n",
    "\n",
    "# Calculate the ratio of area above 'a' to total area\n",
    "if total_area > 0:\n",
    "    ratio_area_above_line = area_above_line / total_area\n",
    "else:\n",
    "    ratio_area_above_line = 0.0  # Avoid division by zero\n",
    "\n",
    "print(f\"Total area of histogram: {total_area}\")\n",
    "print(f\"Area above line at 'line={tμ}': {area_above_line}\")\n",
    "print(f\"Ratio of area above 'tμ' to total area: {ratio_area_above_line}\")\n",
    "\n",
    "# Close the ROOT file"
   ]
  },
  {
   "cell_type": "code",
   "execution_count": null,
   "id": "1774b899",
   "metadata": {},
   "outputs": [],
   "source": []
  },
  {
   "cell_type": "code",
   "execution_count": null,
   "id": "7b4f66cf",
   "metadata": {},
   "outputs": [],
   "source": []
  },
  {
   "cell_type": "code",
   "execution_count": null,
   "id": "96d1e471",
   "metadata": {},
   "outputs": [],
   "source": []
  }
 ],
 "metadata": {
  "kernelspec": {
   "display_name": "Python 3",
   "language": "python",
   "name": "python3"
  },
  "language_info": {
   "codemirror_mode": {
    "name": "ipython",
    "version": 3
   },
   "file_extension": ".py",
   "mimetype": "text/x-python",
   "name": "python",
   "nbconvert_exporter": "python",
   "pygments_lexer": "ipython3",
   "version": "3.9.12"
  }
 },
 "nbformat": 4,
 "nbformat_minor": 5
}
