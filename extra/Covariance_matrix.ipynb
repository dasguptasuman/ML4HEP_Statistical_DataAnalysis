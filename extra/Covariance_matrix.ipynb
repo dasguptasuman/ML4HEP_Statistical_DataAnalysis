{
 "cells": [
  {
   "cell_type": "code",
   "execution_count": 1,
   "id": "90fb2975",
   "metadata": {},
   "outputs": [],
   "source": [
    "import numpy as np\n",
    "import matplotlib.pyplot as plt\n",
    "a=2\n",
    "b=1\n",
    "c=4\n",
    "d=9\n",
    "mean_n1 = 2\n",
    "mean_n2= 7\n",
    "mean_y1 = a*mean_n1 +b*mean_n2\n",
    "mean_y2 = c*mean_n1 + d*mean_n2\n"
   ]
  },
  {
   "cell_type": "code",
   "execution_count": 2,
   "id": "616e429f",
   "metadata": {},
   "outputs": [],
   "source": [
    "poisson_numbers1 = np.random.poisson(lam = mean_n1, size = 900000)\n",
    "\n",
    "poisson_numbers2 = np.random.poisson(lam = mean_n2 , size = 900000)"
   ]
  },
  {
   "cell_type": "code",
   "execution_count": 3,
   "id": "256449d0",
   "metadata": {},
   "outputs": [],
   "source": [
    "y1 = a*poisson_numbers1 + b*poisson_numbers2\n",
    "dev_y1 = y1-mean_y1\n",
    "y2 = c*poisson_numbers1 + d*poisson_numbers2\n",
    "dev_y2 = y2 -mean_y2"
   ]
  },
  {
   "cell_type": "code",
   "execution_count": 4,
   "id": "bc722d5c",
   "metadata": {},
   "outputs": [
    {
     "name": "stderr",
     "output_type": "stream",
     "text": [
      "/tmp/ipykernel_890/2847533098.py:1: RuntimeWarning: invalid value encountered in divide\n",
      "  plt.hist(y1/y2,30)\n"
     ]
    },
    {
     "data": {
      "image/png": "[encoded data removed]",
      "text/plain": [
       "<Figure size 432x288 with 1 Axes>"
      ]
     },
     "metadata": {
      "needs_background": "light"
     },
     "output_type": "display_data"
    }
   ],
   "source": [
    "plt.hist(y1/y2,30)\n",
    "plt.show()"
   ]
  },
  {
   "cell_type": "code",
   "execution_count": 5,
   "id": "4f94669f",
   "metadata": {},
   "outputs": [
    {
     "data": {
      "image/png": "[encoded data removed]",
      "text/plain": [
       "<Figure size 432x288 with 1 Axes>"
      ]
     },
     "metadata": {
      "needs_background": "light"
     },
     "output_type": "display_data"
    }
   ],
   "source": [
    "\n",
    "plt.scatter(y1,y2, c='r')\n",
    "plt.show()"
   ]
  },
  {
   "cell_type": "code",
   "execution_count": 6,
   "id": "1d38b26c",
   "metadata": {},
   "outputs": [],
   "source": [
    "mean_y1 = a*2 +b*7\n",
    "mean_y2 = c*2 + d*7\n"
   ]
  },
  {
   "cell_type": "code",
   "execution_count": 7,
   "id": "e033164d",
   "metadata": {},
   "outputs": [],
   "source": [
    "cov_11 = np.mean(dev_y1*dev_y1)\n",
    "cov_22 = np.mean(dev_y2*dev_y2)\n",
    "cov_12 = np.mean(dev_y1*dev_y2)\n",
    "cov_21 = np.mean(dev_y2*dev_y1)\n",
    "#cov_12 = cov_21 always"
   ]
  },
  {
   "cell_type": "code",
   "execution_count": 8,
   "id": "1fdd1f38",
   "metadata": {},
   "outputs": [
    {
     "name": "stdout",
     "output_type": "stream",
     "text": [
      "1.0 0.8334322661022839\n",
      "0.8334322661022839 0.9999999999999998\n"
     ]
    }
   ],
   "source": [
    "cor_11 = cov_11/(np.sqrt(cov_11)*np.sqrt(cov_11))\n",
    "cor_12 = cov_12 /((np.sqrt(cov_11)*np.sqrt(cov_22)))\n",
    "cor_21 = cov_21 /((np.sqrt(cov_11)*np.sqrt(cov_22)))\n",
    "cor_22 = cov_22 /((np.sqrt(cov_22)*np.sqrt(cov_22)))\n",
    "print(cor_11,cor_12)\n",
    "\n",
    "print(cor_21,cor_22)\n"
   ]
  },
  {
   "cell_type": "code",
   "execution_count": null,
   "id": "0984a469",
   "metadata": {},
   "outputs": [],
   "source": []
  },
  {
   "cell_type": "code",
   "execution_count": null,
   "id": "52260639",
   "metadata": {},
   "outputs": [],
   "source": []
  },
  {
   "cell_type": "code",
   "execution_count": null,
   "id": "7d2ed79c",
   "metadata": {},
   "outputs": [],
   "source": []
  },
  {
   "cell_type": "code",
   "execution_count": null,
   "id": "dbef7a0c",
   "metadata": {},
   "outputs": [],
   "source": []
  },
  {
   "cell_type": "code",
   "execution_count": null,
   "id": "89335412",
   "metadata": {},
   "outputs": [],
   "source": []
  },
  {
   "cell_type": "code",
   "execution_count": null,
   "id": "2a308027",
   "metadata": {},
   "outputs": [],
   "source": []
  }
 ],
 "metadata": {
  "kernelspec": {
   "display_name": "Python 3",
   "language": "python",
   "name": "python3"
  },
  "language_info": {
   "codemirror_mode": {
    "name": "ipython",
    "version": 3
   },
   "file_extension": ".py",
   "mimetype": "text/x-python",
   "name": "python",
   "nbconvert_exporter": "python",
   "pygments_lexer": "ipython3",
   "version": "3.9.12"
  }
 },
 "nbformat": 4,
 "nbformat_minor": 5
}
