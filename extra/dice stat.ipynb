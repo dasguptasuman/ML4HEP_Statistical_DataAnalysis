{
 "cells": [
  {
   "cell_type": "code",
   "execution_count": 8,
   "id": "5961889d",
   "metadata": {},
   "outputs": [],
   "source": [
    "from scipy.stats import chi2\n",
    "import numpy as np \n",
    "from scipy import stats\n",
    "from scipy.special import comb\n",
    "import matplotlib.pyplot as plt\n",
    "observed_heads = 46\n",
    "H_0 = p = .5\n",
    "H_1 = .46\n",
    "number_of_trials = 100\n",
    "#number_of_heads_2 = np.random.binomial(number_of_trials, .3, 100000)\n",
    "number_of_heads = np.random.binomial(number_of_trials, .5, 100000)\n",
    "t_μ = []\n",
    "α = .05\n"
   ]
  },
  {
   "cell_type": "code",
   "execution_count": 9,
   "id": "66d40c1a",
   "metadata": {},
   "outputs": [],
   "source": [
    "for i in number_of_heads:\n",
    "    L_0 = comb(number_of_trials,i)*(p**i)*(1-p)**(number_of_trials-i)\n",
    "    H_prof = i/number_of_trials\n",
    "    #L_1 = comb(number_of_trials,i)*(H_1**i)*(1-H_1)**(number_of_trials-i)\n",
    "    L_1 = comb(number_of_trials,i)*(H_prof**i)*(1-H_prof)**(number_of_trials-i)\n",
    "    λ = L_0/L_1\n",
    "    t = -2*np.log(λ)\n",
    "    t_μ.append(t)"
   ]
  },
  {
   "cell_type": "code",
   "execution_count": 10,
   "id": "c72cf508",
   "metadata": {},
   "outputs": [
    {
     "data": {
      "image/png": "[encoded data removed]",
      "text/plain": [
       "<Figure size 432x288 with 1 Axes>"
      ]
     },
     "metadata": {
      "needs_background": "light"
     },
     "output_type": "display_data"
    },
    {
     "name": "stdout",
     "output_type": "stream",
     "text": [
      "t observed:   0.640684420309173\n"
     ]
    }
   ],
   "source": [
    "plt.hist(t_μ, bins=100,range = (0,60))#hist(t_μ,20)\n",
    "plt.show()\n",
    "L_0_obs = comb(number_of_trials,observed_heads)*(p**observed_heads)*(1-p)**(number_of_trials-observed_heads)\n",
    "L_1_obs = comb(number_of_trials,observed_heads)*(H_1**observed_heads)*(1-H_1)**(number_of_trials-observed_heads)\n",
    "λ = L_0_obs/L_1_obs\n",
    "t_observed = -2*np.log(λ)\n",
    "#p_value = 1 - chi2.cdf(t_observed, 1)\n",
    "print(\"t observed:  \",t_observed)"
   ]
  },
  {
   "cell_type": "code",
   "execution_count": 11,
   "id": "6ced6f3c",
   "metadata": {},
   "outputs": [
    {
     "name": "stdout",
     "output_type": "stream",
     "text": [
      "1.7838132486004032\n"
     ]
    }
   ],
   "source": [
    "p_value = 0\n",
    "for j in t_μ :\n",
    "    if  j >= t_observed:\n",
    "        p_value = p_value +j\n",
    "\n",
    "    \n",
    "print(2*p_value/100000)    "
   ]
  },
  {
   "cell_type": "code",
   "execution_count": 12,
   "id": "2aa89daa",
   "metadata": {},
   "outputs": [],
   "source": [
    "dist = stats.chi2\n",
    "bounds = [(0,32)]\n",
    "\n",
    "res = stats.fit(dist, t_μ, bounds)"
   ]
  },
  {
   "cell_type": "code",
   "execution_count": 6,
   "id": "be870cb5",
   "metadata": {},
   "outputs": [
    {
     "data": {
      "image/png": "[encoded data removed]",
      "text/plain": [
       "<Figure size 432x288 with 1 Axes>"
      ]
     },
     "metadata": {
      "needs_background": "light"
     },
     "output_type": "display_data"
    }
   ],
   "source": [
    "res.plot()\n",
    "plt.show()"
   ]
  },
  {
   "cell_type": "code",
   "execution_count": 7,
   "id": "4bef8745",
   "metadata": {},
   "outputs": [
    {
     "data": {
      "text/plain": [
       "  params: FitParams(df=1.2409967287257715, loc=0.0, scale=1.0)\n",
       " success: False\n",
       " message: 'Optimization converged to parameter values that are inconsistent with the data.'"
      ]
     },
     "execution_count": 7,
     "metadata": {},
     "output_type": "execute_result"
    }
   ],
   "source": [
    "res\n"
   ]
  },
  {
   "cell_type": "markdown",
   "id": "2f0d50f7",
   "metadata": {},
   "source": []
  },
  {
   "cell_type": "code",
   "execution_count": null,
   "id": "41fafa3b",
   "metadata": {},
   "outputs": [],
   "source": []
  }
 ],
 "metadata": {
  "kernelspec": {
   "display_name": "Python 3",
   "language": "python",
   "name": "python3"
  },
  "language_info": {
   "codemirror_mode": {
    "name": "ipython",
    "version": 3
   },
   "file_extension": ".py",
   "mimetype": "text/x-python",
   "name": "python",
   "nbconvert_exporter": "python",
   "pygments_lexer": "ipython3",
   "version": "3.9.12"
  }
 },
 "nbformat": 4,
 "nbformat_minor": 5
}
